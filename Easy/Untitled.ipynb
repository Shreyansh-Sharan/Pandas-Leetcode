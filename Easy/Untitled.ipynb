{
 "cells": [
  {
   "cell_type": "code",
   "execution_count": 50,
   "id": "1a69ad36",
   "metadata": {},
   "outputs": [
    {
     "name": "stdout",
     "output_type": "stream",
     "text": [
      "     email\n",
      "2  a@b.com\n",
      "     Email     id\n",
      "0  a@b.com  False\n",
      "1  c@d.com   True\n",
      "0    a@b.com\n",
      "Name: Email, dtype: object\n"
     ]
    }
   ],
   "source": [
    "import pandas as pd\n",
    "\n",
    "def duplicate_emails(person: pd.DataFrame) -> pd.DataFrame:\n",
    "    df = person[person['email'].duplicated()]\n",
    "    df = df.drop(columns=[\"id\"]))\n",
    "    return df\n",
    "    person = person.groupby('email').count()<2\n",
    "    person.reset_index(inplace=True)\n",
    "\n",
    "    person.rename(columns = {'email':'Email'},inplace=True)\n",
    "\n",
    "    print(person)\n",
    "    person = person[person['id']==False]\n",
    "    #print(person1['email'])\n",
    "    return person['Email']\n",
    "        \n",
    "\n",
    "data = [[1, 'a@b.com'], [2, 'c@d.com'], [3, 'a@b.com']]\n",
    "person = pd.DataFrame(data, columns=['id', 'email']).astype({'id':'Int64', 'email':'object'})\n",
    "\n",
    "print(duplicate_emails(person))"
   ]
  },
  {
   "cell_type": "code",
   "execution_count": null,
   "id": "3826fd1b",
   "metadata": {},
   "outputs": [],
   "source": []
  }
 ],
 "metadata": {
  "kernelspec": {
   "display_name": "Python 3 (ipykernel)",
   "language": "python",
   "name": "python3"
  },
  "language_info": {
   "codemirror_mode": {
    "name": "ipython",
    "version": 3
   },
   "file_extension": ".py",
   "mimetype": "text/x-python",
   "name": "python",
   "nbconvert_exporter": "python",
   "pygments_lexer": "ipython3",
   "version": "3.10.9"
  }
 },
 "nbformat": 4,
 "nbformat_minor": 5
}
